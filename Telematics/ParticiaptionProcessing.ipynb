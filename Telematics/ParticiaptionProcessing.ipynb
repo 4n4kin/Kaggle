{
 "metadata": {
  "name": "",
  "signature": "sha256:85f8604b9f4973f58790f6942fdcbcc7513cd8b9767e8415d6a82fc9e6253487"
 },
 "nbformat": 3,
 "nbformat_minor": 0,
 "worksheets": [
  {
   "cells": [
    {
     "cell_type": "code",
     "collapsed": false,
     "input": [
      "import glob\n",
      "\n",
      "dirs = glob.glob('./drivers/*')\n",
      "files = [glob.glob(dir+'/*.csv') for dir in dirs]"
     ],
     "language": "python",
     "metadata": {},
     "outputs": [],
     "prompt_number": 1
    },
    {
     "cell_type": "code",
     "collapsed": false,
     "input": [
      "fout=open('./combined/'+\"combined.csv\",\"a\")\n",
      "for file_list in files:\n",
      "    for file in file_list:\n",
      "        for line in open(file):\n",
      "            driver = file.split('/')[2]\n",
      "            ride = file.split('/')[3].split('.')[0]\n",
      "            if (line.split(',')[1]!='x'):\n",
      "                fout.write(driver + ',' + ride + ','+line)\n",
      "fout.close()"
     ],
     "language": "python",
     "metadata": {},
     "outputs": [],
     "prompt_number": 8
    },
    {
     "cell_type": "code",
     "collapsed": false,
     "input": [],
     "language": "python",
     "metadata": {},
     "outputs": []
    }
   ],
   "metadata": {}
  }
 ]
}